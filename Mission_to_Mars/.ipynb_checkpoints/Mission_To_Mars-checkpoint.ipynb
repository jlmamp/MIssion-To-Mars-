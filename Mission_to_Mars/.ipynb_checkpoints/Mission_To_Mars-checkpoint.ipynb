{
 "cells": [
  {
   "cell_type": "code",
   "execution_count": 1,
   "id": "861c7054",
   "metadata": {},
   "outputs": [
    {
     "name": "stdout",
     "output_type": "stream",
     "text": [
      "Requirement already satisfied: webdriver_manager in c:\\users\\jarvi\\anaconda3\\lib\\site-packages (3.8.3)\n",
      "Requirement already satisfied: python-dotenv in c:\\users\\jarvi\\anaconda3\\lib\\site-packages (from webdriver_manager) (0.21.0)\n",
      "Requirement already satisfied: requests in c:\\users\\jarvi\\anaconda3\\lib\\site-packages (from webdriver_manager) (2.26.0)\n",
      "Requirement already satisfied: tqdm in c:\\users\\jarvi\\anaconda3\\lib\\site-packages (from webdriver_manager) (4.62.3)\n",
      "Requirement already satisfied: charset-normalizer~=2.0.0 in c:\\users\\jarvi\\anaconda3\\lib\\site-packages (from requests->webdriver_manager) (2.0.4)\n",
      "Requirement already satisfied: idna<4,>=2.5 in c:\\users\\jarvi\\anaconda3\\lib\\site-packages (from requests->webdriver_manager) (3.2)\n",
      "Requirement already satisfied: certifi>=2017.4.17 in c:\\users\\jarvi\\anaconda3\\lib\\site-packages (from requests->webdriver_manager) (2021.10.8)\n",
      "Requirement already satisfied: urllib3<1.27,>=1.21.1 in c:\\users\\jarvi\\anaconda3\\lib\\site-packages (from requests->webdriver_manager) (1.26.7)\n",
      "Requirement already satisfied: colorama in c:\\users\\jarvi\\anaconda3\\lib\\site-packages (from tqdm->webdriver_manager) (0.4.4)\n",
      "Note: you may need to restart the kernel to use updated packages.\n"
     ]
    }
   ],
   "source": [
    "pip install webdriver_manager"
   ]
  },
  {
   "cell_type": "code",
   "execution_count": 2,
   "id": "d2af24d5",
   "metadata": {},
   "outputs": [
    {
     "name": "stdout",
     "output_type": "stream",
     "text": [
      "Requirement already satisfied: splinter in c:\\users\\jarvi\\anaconda3\\lib\\site-packages (0.18.1)\n",
      "Note: you may need to restart the kernel to use updated packages.\n"
     ]
    }
   ],
   "source": [
    "pip install splinter"
   ]
  },
  {
   "cell_type": "code",
   "execution_count": 3,
   "id": "bcc82a24",
   "metadata": {},
   "outputs": [],
   "source": [
    "# Dependencies\n",
    "import pandas as pd\n",
    "import requests as req\n",
    "from splinter import Browser \n",
    "from bs4 import BeautifulSoup\n",
    "from webdriver_manager.chrome import ChromeDriverManager"
   ]
  },
  {
   "cell_type": "code",
   "execution_count": 4,
   "id": "2d90fd3c",
   "metadata": {
    "scrolled": true
   },
   "outputs": [],
   "source": [
    "executable_path = {'executable_path': ChromeDriverManager().install()}\n",
    "browser = Browser('chrome',**executable_path, headless=False)"
   ]
  },
  {
   "cell_type": "code",
   "execution_count": 5,
   "id": "b282845f",
   "metadata": {},
   "outputs": [
    {
     "name": "stdout",
     "output_type": "stream",
     "text": [
      "September 6, 2022\n",
      "NASA's Treasure Map for Water Ice on Mars\n",
      "A new study identifies frozen water just below the Martian surface, where astronauts could easily dig it up.\n"
     ]
    }
   ],
   "source": [
    "#Scrape the Mars News Site and collect the latest News Title and Paragraph Text. \n",
    "#Assign the text to variables that you can reference later.\n",
    "\n",
    "#pointing to the NASA website\n",
    "url = 'https://redplanetscience.com'\n",
    "browser.visit(url)\n",
    "\n",
    "#variable to hold the browser's html\n",
    "html = browser.html\n",
    "\n",
    "# Create BeautifulSoup object; parse with 'html.parser'\n",
    "soup = BeautifulSoup(html, 'html.parser')\n",
    "\n",
    "results = soup.find_all('div',class_=\"list_text\")\n",
    "\n",
    "\n",
    "#searching for the title\n",
    "#search for paragraph and print out\n",
    "news_date = results[0].find('div',class_='list_date').text\n",
    "news_title = results[0].find('div',class_='content_title').text\n",
    "news_body = results[0].find('div',class_='article_teaser_body').text\n",
    "\n",
    "print(news_date)\n",
    "print(news_title)\n",
    "print(news_body)"
   ]
  },
  {
   "cell_type": "code",
   "execution_count": 6,
   "id": "4d87ccbc",
   "metadata": {},
   "outputs": [
    {
     "name": "stdout",
     "output_type": "stream",
     "text": [
      "https://spaceimages-mars.com/image/featured/mars3.jpg\n"
     ]
    }
   ],
   "source": [
    "## JPL Mars Space Images\n",
    "# featured_url is the url showing the featured image\n",
    "\n",
    "url2 = 'https://spaceimages-mars.com'\n",
    "browser.visit(url2)\n",
    "\n",
    "html = browser.html\n",
    "soup = BeautifulSoup(html, 'html.parser')\n",
    "\n",
    "img_start = 'https://spaceimages-mars.com/'\n",
    "img_end = soup.find_all('a',class_='showimg fancybox-thumbs')[0]['href']\n",
    "featured_url = img_start+img_end\n",
    "\n",
    "print(featured_url)"
   ]
  },
  {
   "cell_type": "code",
   "execution_count": 7,
   "id": "cbb4680e",
   "metadata": {},
   "outputs": [],
   "source": [
    "# Mars Facts\n",
    "# mars_info is table's html string \n",
    "\n",
    "url3 = 'https://galaxyfacts-mars.com'\n",
    "tables = pd.read_html(url3)\n",
    "mars_profile = tables[1]\n",
    "mars_info = mars_profile.to_html(index=False, header=False)"
   ]
  },
  {
   "cell_type": "code",
   "execution_count": 8,
   "id": "e6f64560",
   "metadata": {},
   "outputs": [],
   "source": [
    "\n",
    "# Mars Hemispheres\n",
    "# hemi_images is a list of dictionaries containing full-res photos of Mars Hemispheres\n",
    "\n",
    "url4 = 'https://marshemispheres.com/'\n",
    "browser.visit(url4)\n",
    "\n",
    "hemi_images = []\n",
    "\n",
    "html = browser.html\n",
    "soup = BeautifulSoup(html, 'html.parser')\n",
    "\n",
    "links_found = browser.links.find_by_partial_text('Enhanced')\n",
    "\n",
    "for x in range(len(links_found)):\n",
    "    browser.visit(url4)\n",
    "    links_found = browser.links.find_by_partial_text('Enhanced')\n",
    "\n",
    "    links_found[x].click()\n",
    "    html = browser.html\n",
    "    soup = BeautifulSoup(html, 'html.parser')\n",
    "\n",
    "    end_url = soup.find_all('a',target=\"_blank\")[2]['href']\n",
    "    hemi_url = url4+end_url\n",
    "    title = soup.find('h2',class_='title').text\n",
    "\n",
    "    hemi_images.append({'title':title,'hemi_url':hemi_url})\n",
    "    \n",
    "browser.quit()"
   ]
  }
 ],
 "metadata": {
  "kernelspec": {
   "display_name": "Python 3 (ipykernel)",
   "language": "python",
   "name": "python3"
  },
  "language_info": {
   "codemirror_mode": {
    "name": "ipython",
    "version": 3
   },
   "file_extension": ".py",
   "mimetype": "text/x-python",
   "name": "python",
   "nbconvert_exporter": "python",
   "pygments_lexer": "ipython3",
   "version": "3.9.7"
  }
 },
 "nbformat": 4,
 "nbformat_minor": 5
}
